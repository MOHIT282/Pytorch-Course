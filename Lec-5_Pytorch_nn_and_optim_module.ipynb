{
 "cells": [
  {
   "cell_type": "code",
   "execution_count": 1,
   "metadata": {},
   "outputs": [],
   "source": [
    "import torch\n",
    "from torch import nn"
   ]
  },
  {
   "cell_type": "code",
   "execution_count": null,
   "metadata": {},
   "outputs": [],
   "source": [
    "# create model class\n",
    "\n",
    "class Model(nn.Module):\n",
    "\n",
    "    def __init__(self, num_features) -> None:\n",
    "        super().__init__()\n",
    "        self.linear = nn.Linear(in_features=num_features, out_features=1) #defining a linear layer\n",
    "        self.Sigmoid = nn.Sigmoid() #activation function\n",
    "    \n",
    "    def forward(self,features):\n",
    "\n",
    "        out = self.linear(features) # z = xw + b\n",
    "        out = self.Sigmoid(out) # activation function\n",
    "\n",
    "        return out"
   ]
  },
  {
   "cell_type": "markdown",
   "metadata": {},
   "source": [
    "__init__ Method:\n",
    "\n",
    "This is the constructor of the Model class. It's called when an object of this class is instantiated.\n",
    "num_features: This is a parameter specifying the number of input features for the model.  \n",
    "`super().__init__():`Calls the constructor of the parent class (nn.Module) to initialize the base functionality.  \n",
    "  \n",
    "`self.linear:`\n",
    "This defines a linear layer (nn.Linear) with:\n",
    "in_features=num_features: Number of input features to the layer.\n",
    "out_features=1: Number of output features from the layer (here, just 1).\n",
    "The layer computes a linear transformation:  \n",
    "$𝑧 = 𝑥𝑊^𝑇+𝑏$  \n",
    "where:\n",
    "x: Input features.  \n",
    "W: Weight matrix (learned during training).  \n",
    "b: Bias vector (also learned during training).  \n",
    "\n",
    "`self.Sigmoid:`This defines a Sigmoid activation function. It maps input values to a range between 0 and 1. The Sigmoid function is commonly used in binary classification problems, where outputs represent probabilities."
   ]
  },
  {
   "cell_type": "code",
   "execution_count": null,
   "metadata": {},
   "outputs": [
    {
     "data": {
      "text/plain": [
       "tensor([[0.3511],\n",
       "        [0.4207],\n",
       "        [0.4759],\n",
       "        [0.4078],\n",
       "        [0.3900],\n",
       "        [0.3583],\n",
       "        [0.4378],\n",
       "        [0.4503],\n",
       "        [0.4039],\n",
       "        [0.3970]], grad_fn=<SigmoidBackward0>)"
      ]
     },
     "execution_count": 3,
     "metadata": {},
     "output_type": "execute_result"
    }
   ],
   "source": [
    "features = torch.rand([10,5])\n",
    "#create an object of our Model class\n",
    "model = Model(features.shape[1])\n",
    "\n",
    "#apply forward pass on the neural network\n",
    "# model.forward(tensor)\n",
    "model(features)"
   ]
  },
  {
   "cell_type": "code",
   "execution_count": null,
   "metadata": {},
   "outputs": [
    {
     "data": {
      "text/plain": [
       "Parameter containing:\n",
       "tensor([[ 0.2059, -0.3456, -0.2499, -0.2930,  0.0758]], requires_grad=True)"
      ]
     },
     "execution_count": 4,
     "metadata": {},
     "output_type": "execute_result"
    }
   ],
   "source": [
    "# show model weights.... 5 weights for 5 inputs\n",
    "model.linear.weight"
   ]
  },
  {
   "cell_type": "code",
   "execution_count": 5,
   "metadata": {},
   "outputs": [
    {
     "data": {
      "text/plain": [
       "Parameter containing:\n",
       "tensor([0.0167], requires_grad=True)"
      ]
     },
     "execution_count": 5,
     "metadata": {},
     "output_type": "execute_result"
    }
   ],
   "source": [
    "#show model bias..... 1 bias\n",
    "model.linear.bias"
   ]
  },
  {
   "cell_type": "code",
   "execution_count": 6,
   "metadata": {},
   "outputs": [
    {
     "name": "stdout",
     "output_type": "stream",
     "text": [
      "Collecting torchinfo\n",
      "  Downloading torchinfo-1.8.0-py3-none-any.whl.metadata (21 kB)\n",
      "Downloading torchinfo-1.8.0-py3-none-any.whl (23 kB)\n",
      "Installing collected packages: torchinfo\n",
      "Successfully installed torchinfo-1.8.0\n"
     ]
    }
   ],
   "source": [
    "!pip install torchinfo"
   ]
  },
  {
   "cell_type": "code",
   "execution_count": null,
   "metadata": {},
   "outputs": [
    {
     "data": {
      "text/plain": [
       "==========================================================================================\n",
       "Layer (type:depth-idx)                   Output Shape              Param #\n",
       "==========================================================================================\n",
       "Model                                    [10, 1]                   --\n",
       "├─Linear: 1-1                            [10, 1]                   6\n",
       "├─Sigmoid: 1-2                           [10, 1]                   --\n",
       "==========================================================================================\n",
       "Total params: 6\n",
       "Trainable params: 6\n",
       "Non-trainable params: 0\n",
       "Total mult-adds (Units.MEGABYTES): 0.00\n",
       "==========================================================================================\n",
       "Input size (MB): 0.00\n",
       "Forward/backward pass size (MB): 0.00\n",
       "Params size (MB): 0.00\n",
       "Estimated Total Size (MB): 0.00\n",
       "=========================================================================================="
      ]
     },
     "execution_count": 7,
     "metadata": {},
     "output_type": "execute_result"
    }
   ],
   "source": [
    "# visualize our model\n",
    "from torchinfo import summary\n",
    "summary(model, input_size=(10,5)) #10 rows and 5 columns"
   ]
  },
  {
   "attachments": {
    "image.png": {
     "image/png": "[encoded data removed]"
    }
   },
   "cell_type": "markdown",
   "metadata": {},
   "source": [
    "lets add a hidden layer neural network using this  \n",
    "![image.png](attachment:image.png)\n",
    "\n",
    "1st layer with 5 inputs and 3 outputs -> activation function : RelU  \n",
    "Total Trainalbe parameters = 5 inputs x 3 outputs + 3 bias = 18 \n",
    "___\n",
    "2nd layer with 3 inputs and 1 outputs -> activation function : Sigmoid  \n",
    "Total Trainalbe parameters = 3 inputs x 1 outputs + 1 bias = 4"
   ]
  },
  {
   "cell_type": "code",
   "execution_count": 10,
   "metadata": {},
   "outputs": [],
   "source": [
    "class AdvanceModel(nn.Module):\n",
    "\n",
    "    #defining the architecture of neural network\n",
    "    def __init__(self, num_features) -> None:\n",
    "        super().__init__()\n",
    "        self.linear1 = nn.Linear(in_features=5, out_features=3) #defining first linear layer1\n",
    "        self.relu = nn.ReLU() #RelU activation function for first layer\n",
    "\n",
    "        self.linear2 = nn.Linear(in_features=3, out_features=1) # defining 2nd linear layer\n",
    "        self.sigmoid = nn.Sigmoid() # Sigmoid activation function for 2nd layer\n",
    "\n",
    "    def forward(self,features):\n",
    "\n",
    "        out = self.linear1(features) # z = xw + b\n",
    "        out = self.relu(out) # activation function\n",
    "\n",
    "        out = self.linear2(out) # z = xw + b\n",
    "        out = self.sigmoid(out)\n",
    "\n",
    "        return out"
   ]
  },
  {
   "cell_type": "code",
   "execution_count": 11,
   "metadata": {},
   "outputs": [
    {
     "data": {
      "text/plain": [
       "tensor([[0.5501],\n",
       "        [0.5501],\n",
       "        [0.5532],\n",
       "        [0.5501],\n",
       "        [0.5501],\n",
       "        [0.5501],\n",
       "        [0.5511],\n",
       "        [0.5501],\n",
       "        [0.5522],\n",
       "        [0.5501]], grad_fn=<SigmoidBackward0>)"
      ]
     },
     "execution_count": 11,
     "metadata": {},
     "output_type": "execute_result"
    }
   ],
   "source": [
    "features = torch.rand([10,5])\n",
    "#create an object of our Model class\n",
    "model2 = AdvanceModel(features.shape[1])\n",
    "\n",
    "#apply forward pass on the neural network\n",
    "# model.forward(tensor)\n",
    "model2(features)"
   ]
  },
  {
   "cell_type": "code",
   "execution_count": 29,
   "metadata": {},
   "outputs": [
    {
     "name": "stdout",
     "output_type": "stream",
     "text": [
      "linear layer 1 has torch.Size([3, 5]) weights -> Parameter containing:\n",
      "tensor([[ 0.0801, -0.3856, -0.1476, -0.3991,  0.4312],\n",
      "        [ 0.2129, -0.4341,  0.0312, -0.3212,  0.3702],\n",
      "        [ 0.4364, -0.4386, -0.2429,  0.3905, -0.1302]], requires_grad=True)\n",
      "\n",
      "linear layer 2 has torch.Size([1, 3]) weights -> Parameter containing:\n",
      "tensor([[ 0.1543,  0.1194, -0.1495]], requires_grad=True)\n"
     ]
    }
   ],
   "source": [
    "linear1_weight = model2.linear1.weight\n",
    "linear2_weight = model2.linear2.weight\n",
    "print(f'linear layer 1 has {(linear1_weight).shape} weights -> {linear1_weight}\\n')\n",
    "print(f'linear layer 2 has {(linear2_weight).shape} weights -> {linear2_weight}')"
   ]
  },
  {
   "cell_type": "code",
   "execution_count": 16,
   "metadata": {},
   "outputs": [
    {
     "name": "stdout",
     "output_type": "stream",
     "text": [
      "Parameter containing:\n",
      "tensor([-0.3563, -0.0381, -0.3418], requires_grad=True) Parameter containing:\n",
      "tensor([0.2011], requires_grad=True)\n"
     ]
    }
   ],
   "source": [
    "print(model2.linear1.bias, model2.linear2.bias)"
   ]
  },
  {
   "cell_type": "code",
   "execution_count": 32,
   "metadata": {},
   "outputs": [
    {
     "data": {
      "text/plain": [
       "==========================================================================================\n",
       "Layer (type:depth-idx)                   Output Shape              Param #\n",
       "==========================================================================================\n",
       "AdvanceModel                             [10, 1]                   --\n",
       "├─Linear: 1-1                            [10, 3]                   18\n",
       "├─ReLU: 1-2                              [10, 3]                   --\n",
       "├─Linear: 1-3                            [10, 1]                   4\n",
       "├─Sigmoid: 1-4                           [10, 1]                   --\n",
       "==========================================================================================\n",
       "Total params: 22\n",
       "Trainable params: 22\n",
       "Non-trainable params: 0\n",
       "Total mult-adds (Units.MEGABYTES): 0.00\n",
       "==========================================================================================\n",
       "Input size (MB): 0.00\n",
       "Forward/backward pass size (MB): 0.00\n",
       "Params size (MB): 0.00\n",
       "Estimated Total Size (MB): 0.00\n",
       "=========================================================================================="
      ]
     },
     "execution_count": 32,
     "metadata": {},
     "output_type": "execute_result"
    }
   ],
   "source": [
    "summary(model2, input_size=(10, 5))"
   ]
  },
  {
   "cell_type": "markdown",
   "metadata": {},
   "source": [
    "### A general neural network can easily contain multiple hidden layers which can be difficult to maintain as multiple varaibles and their input and output sequence is to be initialized properply\n",
    "### To prevent any error we can use sequential containers from pytorch"
   ]
  },
  {
   "cell_type": "code",
   "execution_count": 33,
   "metadata": {},
   "outputs": [],
   "source": [
    "class SequentialModel(nn.Module):\n",
    "\n",
    "    #defining the architecture of neural network\n",
    "    def __init__(self, num_features) -> None:\n",
    "        super().__init__()\n",
    "        self.layers = nn.Sequential(\n",
    "            nn.Linear(in_features=5, out_features=3),\n",
    "            nn.ReLU(),\n",
    "            nn.Linear(in_features=3, out_features=1),\n",
    "            nn.Sigmoid() \n",
    "        )\n",
    "\n",
    "    def forward(self,features):\n",
    "        out = self.layers(features)\n",
    "        return out"
   ]
  },
  {
   "cell_type": "code",
   "execution_count": 35,
   "metadata": {},
   "outputs": [
    {
     "data": {
      "text/plain": [
       "tensor([[0.5422],\n",
       "        [0.4838],\n",
       "        [0.5002],\n",
       "        [0.5305],\n",
       "        [0.5033],\n",
       "        [0.5438],\n",
       "        [0.5114],\n",
       "        [0.5194],\n",
       "        [0.5223],\n",
       "        [0.5285]], grad_fn=<SigmoidBackward0>)"
      ]
     },
     "execution_count": 35,
     "metadata": {},
     "output_type": "execute_result"
    }
   ],
   "source": [
    "features = torch.rand([10,5])\n",
    "#create an object of our Model class\n",
    "model3 = SequentialModel(features.shape[1])\n",
    "\n",
    "#apply forward pass on the neural network\n",
    "# model.forward(tensor)\n",
    "model2(features)"
   ]
  },
  {
   "cell_type": "markdown",
   "metadata": {},
   "source": [
    "Working like normal but with ease"
   ]
  },
  {
   "cell_type": "code",
   "execution_count": 36,
   "metadata": {},
   "outputs": [
    {
     "data": {
      "text/plain": [
       "==========================================================================================\n",
       "Layer (type:depth-idx)                   Output Shape              Param #\n",
       "==========================================================================================\n",
       "SequentialModel                          [10, 1]                   --\n",
       "├─Sequential: 1-1                        [10, 1]                   --\n",
       "│    └─Linear: 2-1                       [10, 3]                   18\n",
       "│    └─ReLU: 2-2                         [10, 3]                   --\n",
       "│    └─Linear: 2-3                       [10, 1]                   4\n",
       "│    └─Sigmoid: 2-4                      [10, 1]                   --\n",
       "==========================================================================================\n",
       "Total params: 22\n",
       "Trainable params: 22\n",
       "Non-trainable params: 0\n",
       "Total mult-adds (Units.MEGABYTES): 0.00\n",
       "==========================================================================================\n",
       "Input size (MB): 0.00\n",
       "Forward/backward pass size (MB): 0.00\n",
       "Params size (MB): 0.00\n",
       "Estimated Total Size (MB): 0.00\n",
       "=========================================================================================="
      ]
     },
     "execution_count": 36,
     "metadata": {},
     "output_type": "execute_result"
    }
   ],
   "source": [
    "summary(model3, input_size=(10, 5))"
   ]
  }
 ],
 "metadata": {
  "kernelspec": {
   "display_name": "Python 3",
   "language": "python",
   "name": "python3"
  },
  "language_info": {
   "codemirror_mode": {
    "name": "ipython",
    "version": 3
   },
   "file_extension": ".py",
   "mimetype": "text/x-python",
   "name": "python",
   "nbconvert_exporter": "python",
   "pygments_lexer": "ipython3",
   "version": "3.11.6"
  }
 },
 "nbformat": 4,
 "nbformat_minor": 2
}
