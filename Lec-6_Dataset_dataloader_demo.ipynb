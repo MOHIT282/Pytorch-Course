{
 "cells": [
  {
   "cell_type": "code",
   "execution_count": 1,
   "metadata": {},
   "outputs": [],
   "source": [
    "from sklearn.datasets import make_classification\n",
    "import torch"
   ]
  },
  {
   "cell_type": "code",
   "execution_count": 7,
   "metadata": {},
   "outputs": [],
   "source": [
    "X, y = make_classification(\n",
    "    n_samples=20,\n",
    "    n_features=2,\n",
    "    n_informative=2,\n",
    "    n_classes=2,\n",
    "    n_redundant=0,\n",
    "    random_state=42\n",
    ")"
   ]
  },
  {
   "cell_type": "code",
   "execution_count": 8,
   "metadata": {},
   "outputs": [
    {
     "data": {
      "text/plain": [
       "array([[-0.28280607, -1.40876083],\n",
       "       [ 0.94702918,  0.55906844],\n",
       "       [ 1.15772163,  0.474995  ],\n",
       "       [ 1.99591479,  0.77282149],\n",
       "       [ 0.04049985,  1.39732687],\n",
       "       [ 1.47044441, -0.86055081],\n",
       "       [-0.70743459,  0.89217168],\n",
       "       [-1.45694256, -0.04564786],\n",
       "       [ 0.62203454,  2.36749526],\n",
       "       [-0.01544395,  1.09258513],\n",
       "       [ 1.61125245, -0.65678116],\n",
       "       [ 1.45454184,  0.91354664],\n",
       "       [-0.20714752,  1.33055499],\n",
       "       [ 1.9632335 , -0.7697201 ],\n",
       "       [-0.96400678, -0.82990054],\n",
       "       [ 2.07569216,  0.66009587],\n",
       "       [-0.65503537, -0.83585632],\n",
       "       [-1.42571554, -1.31373391],\n",
       "       [-0.87496777, -0.11350669],\n",
       "       [ 1.25579369, -0.37205015]])"
      ]
     },
     "execution_count": 8,
     "metadata": {},
     "output_type": "execute_result"
    }
   ],
   "source": [
    "X"
   ]
  },
  {
   "cell_type": "code",
   "execution_count": 4,
   "metadata": {},
   "outputs": [
    {
     "data": {
      "text/plain": [
       "array([0, 0, 0, 1, 1, 0, 1, 1, 0, 1, 0, 1, 1, 0, 0, 1, 0, 0, 1, 0])"
      ]
     },
     "execution_count": 4,
     "metadata": {},
     "output_type": "execute_result"
    }
   ],
   "source": [
    "y"
   ]
  },
  {
   "cell_type": "code",
   "execution_count": 5,
   "metadata": {},
   "outputs": [],
   "source": [
    "# converting numpy arrays to Pytorch tensors\n",
    "X_tensor = torch.tensor(X, dtype=torch.float32)\n",
    "y_tensor = torch.tensor(y, dtype=torch.float32)"
   ]
  },
  {
   "cell_type": "code",
   "execution_count": 6,
   "metadata": {},
   "outputs": [
    {
     "data": {
      "text/plain": [
       "tensor([[-0.2828, -1.4088],\n",
       "        [ 0.9470,  0.5591],\n",
       "        [ 1.1577,  0.4750],\n",
       "        [ 1.9959,  0.7728],\n",
       "        [ 0.0405,  1.3973],\n",
       "        [ 1.4704, -0.8606],\n",
       "        [-0.7074,  0.8922],\n",
       "        [-1.4569, -0.0456],\n",
       "        [ 0.6220,  2.3675],\n",
       "        [-0.0154,  1.0926],\n",
       "        [ 1.6113, -0.6568],\n",
       "        [ 1.4545,  0.9135],\n",
       "        [-0.2071,  1.3306],\n",
       "        [ 1.9632, -0.7697],\n",
       "        [-0.9640, -0.8299],\n",
       "        [ 2.0757,  0.6601],\n",
       "        [-0.6550, -0.8359],\n",
       "        [-1.4257, -1.3137],\n",
       "        [-0.8750, -0.1135],\n",
       "        [ 1.2558, -0.3721]])"
      ]
     },
     "execution_count": 6,
     "metadata": {},
     "output_type": "execute_result"
    }
   ],
   "source": [
    "X_tensor"
   ]
  },
  {
   "cell_type": "code",
   "execution_count": 9,
   "metadata": {},
   "outputs": [],
   "source": [
    "from torch.utils.data import Dataset, DataLoader"
   ]
  },
  {
   "cell_type": "code",
   "execution_count": 10,
   "metadata": {},
   "outputs": [],
   "source": [
    "class CustomDataset(Dataset):\n",
    "    def __init__(self, features, labels):\n",
    "        self.features = features\n",
    "        self.labels = labels\n",
    "\n",
    "    def __len__(self):\n",
    "        return self.features.shape[0]\n",
    "\n",
    "    def __getitem__(self, index):\n",
    "        return self.features[index], self.labels[index]\n",
    "    "
   ]
  },
  {
   "cell_type": "code",
   "execution_count": 11,
   "metadata": {},
   "outputs": [],
   "source": [
    "dataset = CustomDataset(X_tensor, y_tensor)"
   ]
  },
  {
   "cell_type": "code",
   "execution_count": 12,
   "metadata": {},
   "outputs": [
    {
     "data": {
      "text/plain": [
       "20"
      ]
     },
     "execution_count": 12,
     "metadata": {},
     "output_type": "execute_result"
    }
   ],
   "source": [
    "dataset.__len__()"
   ]
  },
  {
   "cell_type": "code",
   "execution_count": 14,
   "metadata": {},
   "outputs": [
    {
     "data": {
      "text/plain": [
       "(tensor([1.1577, 0.4750]), tensor(0.))"
      ]
     },
     "execution_count": 14,
     "metadata": {},
     "output_type": "execute_result"
    }
   ],
   "source": [
    "dataset.__getitem__(2)"
   ]
  },
  {
   "cell_type": "code",
   "execution_count": 25,
   "metadata": {},
   "outputs": [],
   "source": [
    "data_loader = DataLoader(dataset, batch_size=4, shuffle=True)"
   ]
  },
  {
   "cell_type": "code",
   "execution_count": 27,
   "metadata": {},
   "outputs": [
    {
     "name": "stdout",
     "output_type": "stream",
     "text": [
      "Inputs :  tensor([[ 1.1577,  0.4750],\n",
      "        [-0.9640, -0.8299],\n",
      "        [-0.2071,  1.3306],\n",
      "        [ 1.9959,  0.7728]])\n",
      "Outputs :  tensor([0., 0., 1., 1.])\n",
      "--------------------------------------------------\n",
      "Inputs :  tensor([[ 1.4704, -0.8606],\n",
      "        [-0.0154,  1.0926],\n",
      "        [ 0.9470,  0.5591],\n",
      "        [-1.4569, -0.0456]])\n",
      "Outputs :  tensor([0., 1., 0., 1.])\n",
      "--------------------------------------------------\n",
      "Inputs :  tensor([[ 2.0757,  0.6601],\n",
      "        [-0.8750, -0.1135],\n",
      "        [ 0.6220,  2.3675],\n",
      "        [ 1.4545,  0.9135]])\n",
      "Outputs :  tensor([1., 1., 0., 1.])\n",
      "--------------------------------------------------\n",
      "Inputs :  tensor([[-0.7074,  0.8922],\n",
      "        [ 1.6113, -0.6568],\n",
      "        [ 1.9632, -0.7697],\n",
      "        [ 1.2558, -0.3721]])\n",
      "Outputs :  tensor([1., 0., 0., 0.])\n",
      "--------------------------------------------------\n",
      "Inputs :  tensor([[-0.6550, -0.8359],\n",
      "        [ 0.0405,  1.3973],\n",
      "        [-1.4257, -1.3137],\n",
      "        [-0.2828, -1.4088]])\n",
      "Outputs :  tensor([0., 1., 0., 0.])\n",
      "--------------------------------------------------\n"
     ]
    }
   ],
   "source": [
    "for batch_features, batch_labels in data_loader:\n",
    "    print(\"Inputs : \",batch_features)\n",
    "    print(\"Outputs : \",batch_labels)\n",
    "    print('-'*50)"
   ]
  },
  {
   "cell_type": "code",
   "execution_count": null,
   "metadata": {},
   "outputs": [],
   "source": []
  }
 ],
 "metadata": {
  "kernelspec": {
   "display_name": "Python 3",
   "language": "python",
   "name": "python3"
  },
  "language_info": {
   "codemirror_mode": {
    "name": "ipython",
    "version": 3
   },
   "file_extension": ".py",
   "mimetype": "text/x-python",
   "name": "python",
   "nbconvert_exporter": "python",
   "pygments_lexer": "ipython3",
   "version": "3.11.6"
  }
 },
 "nbformat": 4,
 "nbformat_minor": 2
}
