{
 "cells": [
  {
   "cell_type": "code",
   "execution_count": 1,
   "metadata": {
    "id": "5-vdi8FhmrKj"
   },
   "outputs": [],
   "source": [
    "import torch"
   ]
  },
  {
   "cell_type": "markdown",
   "metadata": {
    "id": "dLm25jhknmuQ"
   },
   "source": [
    "| **Data Type**             | **Dtype**         | **Description**                                                                                                                                                                |\n",
    "|---------------------------|-------------------|--------------------------------------------------------------------------------------------------------------------------------------------------------------------------------|\n",
    "| **32-bit Floating Point** | `torch.float32`   | Standard floating-point type used for most deep learning tasks. Provides a balance between precision and memory usage.                                                         |\n",
    "| **64-bit Floating Point** | `torch.float64`   | Double-precision floating point. Useful for high-precision numerical tasks but uses more memory.                                                                               |\n",
    "| **16-bit Floating Point** | `torch.float16`   | Half-precision floating point. Commonly used in mixed-precision training to reduce memory and computational overhead on modern GPUs.                                            |\n",
    "| **BFloat16**              | `torch.bfloat16`  | Brain floating-point format with reduced precision compared to `float16`. Used in mixed-precision training, especially on TPUs.                                                |\n",
    "| **8-bit Floating Point**  | `torch.float8`    | Ultra-low-precision floating point. Used for experimental applications and extreme memory-constrained environments (less common).                                               |\n",
    "| **8-bit Integer**         | `torch.int8`      | 8-bit signed integer. Used for quantized models to save memory and computation in inference.                                                                                   |\n",
    "| **16-bit Integer**        | `torch.int16`     | 16-bit signed integer. Useful for special numerical tasks requiring intermediate precision.                                                                                    |\n",
    "| **32-bit Integer**        | `torch.int32`     | Standard signed integer type. Commonly used for indexing and general-purpose numerical tasks.                                                                                  |\n",
    "| **64-bit Integer**        | `torch.int64`     | Long integer type. Often used for large indexing arrays or for tasks involving large numbers.                                                                                  |\n",
    "| **8-bit Unsigned Integer**| `torch.uint8`     | 8-bit unsigned integer. Commonly used for image data (e.g., pixel values between 0 and 255).                                                                                    |\n",
    "| **Boolean**               | `torch.bool`      | Boolean type, stores `True` or `False` values. Often used for masks in logical operations.                                                                                      |\n",
    "| **Complex 64**            | `torch.complex64` | Complex number type with 32-bit real and 32-bit imaginary parts. Used for scientific and signal processing tasks.                                                               |\n",
    "| **Complex 128**           | `torch.complex128`| Complex number type with 64-bit real and 64-bit imaginary parts. Offers higher precision but uses more memory.                                                                 |\n",
    "| **Quantized Integer**     | `torch.qint8`     | Quantized signed 8-bit integer. Used in quantized models for efficient inference.                                                                                              |\n",
    "| **Quantized Unsigned Integer** | `torch.quint8` | Quantized unsigned 8-bit integer. Often used for quantized tensors in image-related tasks.                                                                                     |\n"
   ]
  },
  {
   "cell_type": "code",
   "execution_count": 2,
   "metadata": {
    "colab": {
     "base_uri": "https://localhost:8080/"
    },
    "id": "jmmlZsxvt7ZZ",
    "outputId": "da131dd4-1cdf-4038-a368-139bb184a26e"
   },
   "outputs": [
    {
     "name": "stdout",
     "output_type": "stream",
     "text": [
      "2.5.1+cu124\n"
     ]
    }
   ],
   "source": [
    "print(torch.__version__)"
   ]
  },
  {
   "cell_type": "code",
   "execution_count": 5,
   "metadata": {
    "colab": {
     "base_uri": "https://localhost:8080/"
    },
    "id": "XFPcuceMmt9_",
    "outputId": "f111cc68-d1d2-4318-beab-1516f7e0a84e"
   },
   "outputs": [
    {
     "name": "stdout",
     "output_type": "stream",
     "text": [
      "Gpu available, Gpu name is :  NVIDIA GeForce GTX 1650\n",
      "Available gpus :  1\n"
     ]
    }
   ],
   "source": [
    "if torch.cuda.is_available():\n",
    "    print('Gpu available, Gpu name is : ', torch.cuda.get_device_name())\n",
    "    print('Available gpus : ',torch.cuda.device_count())\n",
    "else:\n",
    "    print('Gpu not avaible, CPU is working')\n",
    "    "
   ]
  },
  {
   "cell_type": "markdown",
   "metadata": {
    "id": "LbZRtv3-oAyX"
   },
   "source": [
    "## Creating a tensor"
   ]
  },
  {
   "cell_type": "code",
   "execution_count": 7,
   "metadata": {
    "colab": {
     "base_uri": "https://localhost:8080/"
    },
    "id": "GP9IYMxvn2UG",
    "outputId": "2c7da648-c5bd-4eb7-af42-6c5e50491a74"
   },
   "outputs": [
    {
     "data": {
      "text/plain": [
       "tensor([[-2.3969e-31,  3.2981e-41, -1.1102e-17,  4.4201e-41],\n",
       "        [ 8.9683e-44,  0.0000e+00,  1.3452e-43,  0.0000e+00]])"
      ]
     },
     "execution_count": 7,
     "metadata": {},
     "output_type": "execute_result"
    }
   ],
   "source": [
    "#using empty\n",
    "empty_tensor = torch.empty(2,4)\n",
    "empty_tensor"
   ]
  },
  {
   "cell_type": "code",
   "execution_count": 8,
   "metadata": {
    "colab": {
     "base_uri": "https://localhost:8080/"
    },
    "id": "wP7umZNioTre",
    "outputId": "1f0a3f12-59e1-4eaf-9fb1-17624ee207c9"
   },
   "outputs": [
    {
     "data": {
      "text/plain": [
       "torch.Tensor"
      ]
     },
     "execution_count": 8,
     "metadata": {},
     "output_type": "execute_result"
    }
   ],
   "source": [
    "type(empty_tensor)"
   ]
  },
  {
   "cell_type": "code",
   "execution_count": 10,
   "metadata": {
    "colab": {
     "base_uri": "https://localhost:8080/"
    },
    "id": "mk4yviWaochy",
    "outputId": "dc402c05-73a2-490f-dfdc-d787fd788fa2"
   },
   "outputs": [
    {
     "data": {
      "text/plain": [
       "tensor([[0., 0., 0., 0.],\n",
       "        [0., 0., 0., 0.]])"
      ]
     },
     "execution_count": 10,
     "metadata": {},
     "output_type": "execute_result"
    }
   ],
   "source": [
    "# zero tensor of given size\n",
    "torch.zeros(2,4)"
   ]
  },
  {
   "cell_type": "code",
   "execution_count": 11,
   "metadata": {
    "colab": {
     "base_uri": "https://localhost:8080/"
    },
    "id": "gMmLwHaWonB1",
    "outputId": "de2fd2f1-d018-4b66-ce67-8c4b90128dfe"
   },
   "outputs": [
    {
     "data": {
      "text/plain": [
       "tensor([[1., 1., 1.],\n",
       "        [1., 1., 1.],\n",
       "        [1., 1., 1.]])"
      ]
     },
     "execution_count": 11,
     "metadata": {},
     "output_type": "execute_result"
    }
   ],
   "source": [
    "# tensor of given size with values as 1\n",
    "torch.ones(3,3)"
   ]
  },
  {
   "cell_type": "code",
   "execution_count": 17,
   "metadata": {
    "colab": {
     "base_uri": "https://localhost:8080/"
    },
    "id": "e77NdDEMotYO",
    "outputId": "b7e6c0d6-6f20-48e8-cc51-8d7d26ff1647"
   },
   "outputs": [
    {
     "data": {
      "text/plain": [
       "tensor([[0.6765, 0.7539],\n",
       "        [0.2627, 0.0428]])"
      ]
     },
     "execution_count": 17,
     "metadata": {},
     "output_type": "execute_result"
    }
   ],
   "source": [
    "# tensor with random values (0 to 1) assigned\n",
    "torch.rand(2,2)"
   ]
  },
  {
   "cell_type": "code",
   "execution_count": 16,
   "metadata": {
    "colab": {
     "base_uri": "https://localhost:8080/"
    },
    "id": "WwcsBYWgo-UA",
    "outputId": "95e4d8c9-dec2-4dc8-f0b6-4052095e0842"
   },
   "outputs": [
    {
     "data": {
      "text/plain": [
       "tensor([[0.1117, 0.8158],\n",
       "        [0.2626, 0.4839]])"
      ]
     },
     "execution_count": 16,
     "metadata": {},
     "output_type": "execute_result"
    }
   ],
   "source": [
    "#manual seed\n",
    "torch.manual_seed(100)  #using this rand() method will generate same values everytime\n",
    "torch.rand(2,2)"
   ]
  },
  {
   "cell_type": "code",
   "execution_count": 22,
   "metadata": {
    "colab": {
     "base_uri": "https://localhost:8080/"
    },
    "id": "A-JoDxMyp5Sa",
    "outputId": "66d3fc3e-811a-4ea1-dd4a-330a44c5a1c4"
   },
   "outputs": [
    {
     "data": {
      "text/plain": [
       "tensor([[1, 2, 3],\n",
       "        [2, 4, 6]])"
      ]
     },
     "execution_count": 22,
     "metadata": {},
     "output_type": "execute_result"
    }
   ],
   "source": [
    "#using tensor to create custom tensors\n",
    "torch.tensor([[1,2,3],[2,4,6]])"
   ]
  },
  {
   "cell_type": "code",
   "execution_count": 23,
   "metadata": {
    "colab": {
     "base_uri": "https://localhost:8080/"
    },
    "id": "b8z78H6dqDoR",
    "outputId": "5d0122cb-66e5-469b-e1fa-b8ccfd669786"
   },
   "outputs": [
    {
     "data": {
      "text/plain": [
       "tensor([1, 3, 5, 7, 9])"
      ]
     },
     "execution_count": 23,
     "metadata": {},
     "output_type": "execute_result"
    }
   ],
   "source": [
    "#arange\n",
    "torch.arange(1,10,2) # (start, stop, step)"
   ]
  },
  {
   "cell_type": "code",
   "execution_count": 25,
   "metadata": {
    "colab": {
     "base_uri": "https://localhost:8080/"
    },
    "id": "hoGjYrYMqdK8",
    "outputId": "e8076c44-e935-4f51-c481-124283dbbb8d"
   },
   "outputs": [
    {
     "data": {
      "text/plain": [
       "tensor([ 1.0000,  1.4737,  1.9474,  2.4211,  2.8947,  3.3684,  3.8421,  4.3158,\n",
       "         4.7895,  5.2632,  5.7368,  6.2105,  6.6842,  7.1579,  7.6316,  8.1053,\n",
       "         8.5789,  9.0526,  9.5263, 10.0000])"
      ]
     },
     "execution_count": 25,
     "metadata": {},
     "output_type": "execute_result"
    }
   ],
   "source": [
    "#linspace\n",
    "torch.linspace(1,10, 20)"
   ]
  },
  {
   "cell_type": "code",
   "execution_count": 28,
   "metadata": {
    "colab": {
     "base_uri": "https://localhost:8080/"
    },
    "id": "951gWmcqqnSE",
    "outputId": "fae036d5-6a0a-453a-ac6b-1081cea8ed1e"
   },
   "outputs": [
    {
     "data": {
      "text/plain": [
       "tensor([[1., 0., 0.],\n",
       "        [0., 1., 0.],\n",
       "        [0., 0., 1.]])"
      ]
     },
     "execution_count": 28,
     "metadata": {},
     "output_type": "execute_result"
    }
   ],
   "source": [
    "#using eye ->identity matrix\n",
    "torch.eye(3,3)"
   ]
  },
  {
   "cell_type": "code",
   "execution_count": 30,
   "metadata": {
    "colab": {
     "base_uri": "https://localhost:8080/"
    },
    "id": "t1VplJW_qzL2",
    "outputId": "3862c0ff-81e8-493e-ffeb-c196193c6337"
   },
   "outputs": [
    {
     "data": {
      "text/plain": [
       "tensor([[5, 5, 5, 5],\n",
       "        [5, 5, 5, 5],\n",
       "        [5, 5, 5, 5],\n",
       "        [5, 5, 5, 5]])"
      ]
     },
     "execution_count": 30,
     "metadata": {},
     "output_type": "execute_result"
    }
   ],
   "source": [
    "#using full\n",
    "torch.full((4,4),5) # -> 4x4 matrix with all values as 5"
   ]
  },
  {
   "cell_type": "markdown",
   "metadata": {
    "id": "LHeIEl3UrCUg"
   },
   "source": [
    "## Tensor shapes"
   ]
  },
  {
   "cell_type": "code",
   "execution_count": 31,
   "metadata": {
    "colab": {
     "base_uri": "https://localhost:8080/"
    },
    "id": "XBxJPlr1rBy_",
    "outputId": "67e2dce1-884c-45e9-e84b-eabe6dbea44b"
   },
   "outputs": [
    {
     "data": {
      "text/plain": [
       "tensor([[1, 2, 3, 4],\n",
       "        [5, 6, 7, 8]])"
      ]
     },
     "execution_count": 31,
     "metadata": {},
     "output_type": "execute_result"
    }
   ],
   "source": [
    "x = torch.tensor([[1,2,3,4],[5,6,7,8]])\n",
    "x"
   ]
  },
  {
   "cell_type": "code",
   "execution_count": 34,
   "metadata": {
    "colab": {
     "base_uri": "https://localhost:8080/"
    },
    "id": "prtXMFGdrQLE",
    "outputId": "cc6f067d-ce4f-4aa7-c61d-798eb4f28535"
   },
   "outputs": [
    {
     "name": "stdout",
     "output_type": "stream",
     "text": [
      "shape of x is : torch.Size([2, 4])\n",
      "shape of x is : torch.Size([2, 4])\n"
     ]
    }
   ],
   "source": [
    "print(f'shape of x is : {x.shape}')\n",
    "print(f'shape of x is : {x.size()}')"
   ]
  },
  {
   "cell_type": "code",
   "execution_count": 35,
   "metadata": {
    "colab": {
     "base_uri": "https://localhost:8080/"
    },
    "id": "N5HUiXbFrm9W",
    "outputId": "3a3c3d8a-14ac-409b-bfe7-4abb3e532f9b"
   },
   "outputs": [
    {
     "data": {
      "text/plain": [
       "tensor([[135478893137296, 101088737647120, 101088728987232, 101088733109536],\n",
       "        [              0, 101088731541376, 101088683975136, 135474581194848]])"
      ]
     },
     "execution_count": 35,
     "metadata": {},
     "output_type": "execute_result"
    }
   ],
   "source": [
    "# create a new tensor of same shape of a given tensor but without the values\n",
    "torch.empty_like(x)"
   ]
  },
  {
   "cell_type": "code",
   "execution_count": 36,
   "metadata": {
    "colab": {
     "base_uri": "https://localhost:8080/"
    },
    "id": "wq-h_uY8r0L-",
    "outputId": "241574bc-7a8e-4ec4-fb89-f5f64e552fb3"
   },
   "outputs": [
    {
     "data": {
      "text/plain": [
       "tensor([[0, 0, 0, 0],\n",
       "        [0, 0, 0, 0]])"
      ]
     },
     "execution_count": 36,
     "metadata": {},
     "output_type": "execute_result"
    }
   ],
   "source": [
    "# create a new tensor of same shape of a given tensor but with all 0s\n",
    "torch.zeros_like(x)"
   ]
  },
  {
   "cell_type": "code",
   "execution_count": 37,
   "metadata": {
    "colab": {
     "base_uri": "https://localhost:8080/"
    },
    "id": "dSfMna-Wr8NX",
    "outputId": "594f1b07-7a74-4461-fee8-e60251f795ff"
   },
   "outputs": [
    {
     "data": {
      "text/plain": [
       "tensor([[1, 1, 1, 1],\n",
       "        [1, 1, 1, 1]])"
      ]
     },
     "execution_count": 37,
     "metadata": {},
     "output_type": "execute_result"
    }
   ],
   "source": [
    "torch.ones_like(x)"
   ]
  },
  {
   "cell_type": "code",
   "execution_count": 40,
   "metadata": {
    "colab": {
     "base_uri": "https://localhost:8080/"
    },
    "id": "fpW19DWmr-48",
    "outputId": "ccacb400-aa21-4205-abff-09d4683834d2"
   },
   "outputs": [
    {
     "data": {
      "text/plain": [
       "tensor([[0.2080, 0.1180, 0.1217, 0.7356],\n",
       "        [0.7118, 0.7876, 0.4183, 0.9014]])"
      ]
     },
     "execution_count": 40,
     "metadata": {},
     "output_type": "execute_result"
    }
   ],
   "source": [
    "torch.rand_like(x, dtype=torch.float32)"
   ]
  },
  {
   "cell_type": "markdown",
   "metadata": {
    "id": "B2SYX1xPv9Ep"
   },
   "source": [
    "## Mathematical Operations"
   ]
  },
  {
   "cell_type": "code",
   "execution_count": 43,
   "metadata": {
    "colab": {
     "base_uri": "https://localhost:8080/"
    },
    "id": "tgtRxdLJv7ww",
    "outputId": "40d63fc0-a075-4bd9-eb81-4076489c0193"
   },
   "outputs": [
    {
     "name": "stdout",
     "output_type": "stream",
     "text": [
      "x is :  tensor([[1, 2, 3, 4],\n",
      "        [5, 6, 7, 8]])\n",
      "x + 2 :  tensor([[ 3,  4,  5,  6],\n",
      "        [ 7,  8,  9, 10]])\n",
      "x - 2 :  tensor([[-1,  0,  1,  2],\n",
      "        [ 3,  4,  5,  6]])\n",
      "x * 3 :  tensor([[ 3,  6,  9, 12],\n",
      "        [15, 18, 21, 24]])\n",
      "x // 2 :  tensor([[0, 1, 1, 2],\n",
      "        [2, 3, 3, 4]])\n",
      "x % 2 :  tensor([[1, 0, 1, 0],\n",
      "        [1, 0, 1, 0]])\n",
      "x ** 2 :  tensor([[ 1,  4,  9, 16],\n",
      "        [25, 36, 49, 64]])\n"
     ]
    }
   ],
   "source": [
    "print('x is : ',x)\n",
    "# addition\n",
    "add = x + 2\n",
    "print('x + 2 : ',add)\n",
    "\n",
    "# substraction\n",
    "minus = x - 2\n",
    "print('x - 2 : ',minus)\n",
    "\n",
    "# multiplication\n",
    "multi = x * 3\n",
    "print('x * 3 : ',multi)\n",
    "\n",
    "# division\n",
    "div = x // 2\n",
    "print('x // 2 : ',div)\n",
    "\n",
    "# mod\n",
    "mod = x % 2\n",
    "print('x % 2 : ',mod)\n",
    "\n",
    "# power\n",
    "power = x ** 2\n",
    "print('x ** 2 : ',power)"
   ]
  },
  {
   "cell_type": "markdown",
   "metadata": {
    "id": "o0lAOpgpxP1L"
   },
   "source": [
    "## Tensor operations"
   ]
  },
  {
   "cell_type": "code",
   "execution_count": 2,
   "metadata": {
    "colab": {
     "base_uri": "https://localhost:8080/"
    },
    "id": "fOZy7tRLxO7z",
    "outputId": "8d593fff-8d7c-4006-ccf9-2692773ed18e"
   },
   "outputs": [
    {
     "name": "stdout",
     "output_type": "stream",
     "text": [
      "a+b :  tensor([4, 6])\n",
      "a-b :  tensor([-2, -2])\n",
      "a*b :  tensor([3, 8])\n",
      "a//b :  tensor([0, 0])\n",
      "a**b :  tensor([ 1, 16])\n",
      "a%b :  tensor([1, 2])\n"
     ]
    }
   ],
   "source": [
    "a= torch.tensor([1,2])\n",
    "b= torch.tensor([3,4])\n",
    "\n",
    "# addition\n",
    "print('a+b : ',a+b)\n",
    "\n",
    "# substraction\n",
    "print('a-b : ',a-b)\n",
    "\n",
    "# muliplication\n",
    "print('a*b : ',a*b)\n",
    "\n",
    "# division\n",
    "print('a//b : ',a//b)\n",
    "\n",
    "# power\n",
    "print('a**b : ',a**b)\n",
    "\n",
    "# mod\n",
    "print('a%b : ',a%b)\n"
   ]
  },
  {
   "cell_type": "code",
   "execution_count": 3,
   "metadata": {
    "colab": {
     "base_uri": "https://localhost:8080/"
    },
    "id": "6CG1lGSl40BZ",
    "outputId": "92698a9e-4023-45d0-c427-652415498124"
   },
   "outputs": [
    {
     "data": {
      "text/plain": [
       "tensor([1, 2, 3, 4, 5])"
      ]
     },
     "execution_count": 3,
     "metadata": {},
     "output_type": "execute_result"
    }
   ],
   "source": [
    "c = torch.tensor([1,-2,3,-4,-5])\n",
    "\n",
    "torch.abs(c)"
   ]
  },
  {
   "cell_type": "code",
   "execution_count": 5,
   "metadata": {
    "colab": {
     "base_uri": "https://localhost:8080/"
    },
    "id": "_0KEKCld47Lx",
    "outputId": "22b2fd24-4a27-4772-99c5-6645591051b6"
   },
   "outputs": [
    {
     "name": "stdout",
     "output_type": "stream",
     "text": [
      "tensor([2., 6., 8., 5.])\n",
      "tensor([1., 5., 8., 5.])\n",
      "tensor([1., 5., 7., 4.])\n"
     ]
    }
   ],
   "source": [
    "t = torch.tensor([1.3, 5.4, 7.8, 4.7])\n",
    "print(torch.ceil(t))\n",
    "print(torch.round(t))\n",
    "print(torch.floor(t))"
   ]
  },
  {
   "cell_type": "markdown",
   "metadata": {
    "id": "SoK0gWht5QqP"
   },
   "source": [
    "## Reduction Operations"
   ]
  },
  {
   "cell_type": "code",
   "execution_count": 6,
   "metadata": {
    "colab": {
     "base_uri": "https://localhost:8080/"
    },
    "id": "RrxqTgZd5Thf",
    "outputId": "a5c8681a-d200-4970-c24e-3a07b0103139"
   },
   "outputs": [
    {
     "data": {
      "text/plain": [
       "tensor([[5, 8, 8],\n",
       "        [2, 8, 5]])"
      ]
     },
     "execution_count": 6,
     "metadata": {},
     "output_type": "execute_result"
    }
   ],
   "source": [
    "e = torch.randint(size=(2,3), low=0, high=10)\n",
    "e"
   ]
  },
  {
   "cell_type": "code",
   "execution_count": 9,
   "metadata": {
    "colab": {
     "base_uri": "https://localhost:8080/"
    },
    "id": "Hlck6Hfd5am2",
    "outputId": "0bad41aa-5726-438b-fc86-b980f7f6b932"
   },
   "outputs": [
    {
     "name": "stdout",
     "output_type": "stream",
     "text": [
      "tensor(36)\n",
      "tensor([ 7, 16, 13])\n",
      "tensor([21, 15])\n"
     ]
    }
   ],
   "source": [
    "#sum\n",
    "print(torch.sum(e))\n",
    "\n",
    "#sum along columns\n",
    "print(torch.sum(e, dim=0))\n",
    "\n",
    "#sum along rows\n",
    "print(torch.sum(e, dim=1))"
   ]
  },
  {
   "cell_type": "code",
   "execution_count": 20,
   "metadata": {
    "colab": {
     "base_uri": "https://localhost:8080/"
    },
    "id": "8Pd9U7mM5fpH",
    "outputId": "d2c6ee46-1394-4392-deab-56bbd838fd27"
   },
   "outputs": [
    {
     "name": "stdout",
     "output_type": "stream",
     "text": [
      "tensor(6.)\n",
      "tensor([3.5000, 8.0000, 6.5000])\n",
      "tensor([7., 5.])\n"
     ]
    }
   ],
   "source": [
    "#mean\n",
    "e2 = e.clone()\n",
    "print(torch.mean(e))\n",
    "\n",
    "#mean along column\n",
    "print(torch.mean(e, dim=0))\n",
    "\n",
    "#mean along row\n",
    "print(torch.mean(e, dim=1))\n"
   ]
  },
  {
   "cell_type": "code",
   "execution_count": 18,
   "metadata": {
    "colab": {
     "base_uri": "https://localhost:8080/"
    },
    "id": "s2ZDjnYN6UcT",
    "outputId": "5a6527da-13a0-45a8-ad3c-030198998ee5"
   },
   "outputs": [
    {
     "name": "stdout",
     "output_type": "stream",
     "text": [
      "tensor([[ 5.,  8.,  8.],\n",
      "        [ 2., 10.,  5.]])\n"
     ]
    }
   ],
   "source": [
    "e2[1][1] = 10\n",
    "print(e2)"
   ]
  },
  {
   "cell_type": "code",
   "execution_count": 22,
   "metadata": {
    "colab": {
     "base_uri": "https://localhost:8080/"
    },
    "id": "47WoWSis6iXk",
    "outputId": "1ecf2d90-44c0-43c1-dbbd-7d7957f875e9"
   },
   "outputs": [
    {
     "name": "stdout",
     "output_type": "stream",
     "text": [
      "tensor(8.)\n",
      "tensor(2.)\n",
      "tensor(2.4495)\n",
      "tensor(6.)\n"
     ]
    }
   ],
   "source": [
    "#median\n",
    "torch.median(e2)\n",
    "\n",
    "#max min\n",
    "print(torch.max(e2))\n",
    "print(torch.min(e2))\n",
    "\n",
    "#std var\n",
    "print(torch.std(e2))\n",
    "print(torch.var(e2))"
   ]
  },
  {
   "cell_type": "code",
   "execution_count": 28,
   "metadata": {
    "colab": {
     "base_uri": "https://localhost:8080/"
    },
    "id": "4FGJxXUW62N4",
    "outputId": "5f4ff5c9-b3ff-49f0-e68b-fe8184d19680"
   },
   "outputs": [
    {
     "name": "stdout",
     "output_type": "stream",
     "text": [
      "e2 :  tensor([[5., 8., 8.],\n",
      "        [2., 8., 5.]])\n",
      "tensor(1)\n",
      "tensor(3)\n"
     ]
    }
   ],
   "source": [
    "print('e2 : ',e2)\n",
    "#argmax\n",
    "print(torch.argmax(e2)) #position of the largest element in the tensort\n",
    "\n",
    "#argmin\n",
    "print(torch.argmin(e2))"
   ]
  },
  {
   "cell_type": "code",
   "execution_count": 31,
   "metadata": {
    "colab": {
     "base_uri": "https://localhost:8080/"
    },
    "id": "jnukWvcX6-pT",
    "outputId": "9c4d70b8-e30f-4fb4-de1a-606c1f650fd5"
   },
   "outputs": [
    {
     "name": "stdout",
     "output_type": "stream",
     "text": [
      "A :  tensor([[6, 7, 1],\n",
      "        [9, 6, 4]])\n",
      "B :  tensor([[0, 6],\n",
      "        [0, 1],\n",
      "        [3, 2]])\n",
      "Matrix multiplication :  tensor([[ 3, 45],\n",
      "        [12, 68]])\n"
     ]
    }
   ],
   "source": [
    "# matrix multiplication\n",
    "A = torch.randint(size=(2,3), low=0, high=10)\n",
    "B = torch.randint(size=(3,2), low=0, high=10)\n",
    "\n",
    "print('A : ',A)\n",
    "print('B : ',B)\n",
    "print('Matrix multiplication : ',torch.matmul(A,B))"
   ]
  },
  {
   "cell_type": "code",
   "execution_count": 38,
   "metadata": {
    "colab": {
     "base_uri": "https://localhost:8080/"
    },
    "id": "nQDTUBn_7wbi",
    "outputId": "449806d2-2005-4ec5-a611-b85b35c9e235"
   },
   "outputs": [
    {
     "name": "stdout",
     "output_type": "stream",
     "text": [
      "A :  tensor([9, 8])\n",
      "B :  tensor([0, 7])\n",
      "Dot product :  tensor(56)\n"
     ]
    }
   ],
   "source": [
    "#dot product\n",
    "A = torch.randint( low=0, high=10,size=(2,))\n",
    "B = torch.randint( low=0, high=10,size=(2,))\n",
    "\n",
    "print('A : ',A)\n",
    "print('B : ',B)\n",
    "print('Dot product : ',torch.dot(A,B))"
   ]
  },
  {
   "cell_type": "code",
   "execution_count": 48,
   "metadata": {
    "colab": {
     "base_uri": "https://localhost:8080/"
    },
    "id": "Y6NDzY6s8OdF",
    "outputId": "fe9347a3-1b83-4874-dd82-d7d31622b478"
   },
   "outputs": [
    {
     "name": "stdout",
     "output_type": "stream",
     "text": [
      "tensor([[1, 2, 3],\n",
      "        [4, 5, 6],\n",
      "        [7, 8, 9]])\n"
     ]
    },
    {
     "data": {
      "text/plain": [
       "tensor([[1, 4, 7],\n",
       "        [2, 5, 8],\n",
       "        [3, 6, 9]])"
      ]
     },
     "execution_count": 48,
     "metadata": {},
     "output_type": "execute_result"
    }
   ],
   "source": [
    "mat = torch.tensor([[1,2,3],[4,5,6],[7,8,9]])\n",
    "print(mat)\n",
    "torch.transpose(mat, 0,1)"
   ]
  },
  {
   "cell_type": "code",
   "execution_count": 50,
   "metadata": {
    "colab": {
     "base_uri": "https://localhost:8080/"
    },
    "id": "VJKQBnFR9i7y",
    "outputId": "fd48cac8-3cdb-4834-c2e8-ccc41c8a4ebc"
   },
   "outputs": [
    {
     "data": {
      "text/plain": [
       "tensor(0.)"
      ]
     },
     "execution_count": 50,
     "metadata": {},
     "output_type": "execute_result"
    }
   ],
   "source": [
    "#determinant\n",
    "mat2 = mat.clone().to(torch.float32)\n",
    "torch.det(mat2)"
   ]
  },
  {
   "cell_type": "code",
   "execution_count": 51,
   "metadata": {
    "colab": {
     "base_uri": "https://localhost:8080/"
    },
    "id": "eZLL7Rma-JJX",
    "outputId": "2b4c8719-0f12-445c-a4c2-d60be271e6f8"
   },
   "outputs": [
    {
     "data": {
      "text/plain": [
       "0.0"
      ]
     },
     "execution_count": 51,
     "metadata": {},
     "output_type": "execute_result"
    }
   ],
   "source": [
    "import numpy as np\n",
    "mat3 = np.array([[1,2,3],[4,5,6],[7,8,9]])\n",
    "np.linalg.det(mat3)"
   ]
  },
  {
   "cell_type": "markdown",
   "metadata": {
    "id": "HO2-P1wo-dDI"
   },
   "source": [
    "## Comparison operators"
   ]
  },
  {
   "cell_type": "code",
   "execution_count": 56,
   "metadata": {
    "colab": {
     "base_uri": "https://localhost:8080/"
    },
    "id": "cXV79eEH-adn",
    "outputId": "1fabed38-d54c-438c-aa0f-dc9c0df30491"
   },
   "outputs": [
    {
     "data": {
      "text/plain": [
       "tensor([[True, True, True],\n",
       "        [True, True, True],\n",
       "        [True, True, True]])"
      ]
     },
     "execution_count": 56,
     "metadata": {},
     "output_type": "execute_result"
    }
   ],
   "source": [
    "mat == mat3 # mat is torch tensor and mat3 is numpy array"
   ]
  },
  {
   "cell_type": "code",
   "execution_count": 61,
   "metadata": {
    "colab": {
     "base_uri": "https://localhost:8080/"
    },
    "id": "D5rsJ6aS-wrE",
    "outputId": "eabd9578-f4fb-4ffb-8fda-45ff157a1443"
   },
   "outputs": [
    {
     "name": "stdout",
     "output_type": "stream",
     "text": [
      "tensor([[False, False, False],\n",
      "        [False, False, False],\n",
      "        [False, False, False]])\n",
      "tensor([[False, False, False],\n",
      "        [False, False, False],\n",
      "        [False, False, False]])\n",
      "tensor([[True, True, True],\n",
      "        [True, True, True],\n",
      "        [True, True, True]])\n",
      "tensor([[True, True, True],\n",
      "        [True, True, True],\n",
      "        [True, True, True]])\n"
     ]
    }
   ],
   "source": [
    "print(mat > mat2)\n",
    "print(mat < mat2)\n",
    "print(mat >= mat2)\n",
    "print(mat <= mat2)"
   ]
  },
  {
   "cell_type": "markdown",
   "metadata": {
    "id": "A7GCqQkN_Dnu"
   },
   "source": [
    "## Special functions"
   ]
  },
  {
   "cell_type": "code",
   "execution_count": 62,
   "metadata": {
    "colab": {
     "base_uri": "https://localhost:8080/"
    },
    "id": "tfrF2Hxk_F3n",
    "outputId": "d5e390ab-f327-4381-95d4-c36de865f46b"
   },
   "outputs": [
    {
     "data": {
      "text/plain": [
       "tensor([[0.0000, 0.6931, 1.0986],\n",
       "        [1.3863, 1.6094, 1.7918],\n",
       "        [1.9459, 2.0794, 2.1972]])"
      ]
     },
     "execution_count": 62,
     "metadata": {},
     "output_type": "execute_result"
    }
   ],
   "source": [
    "#log function\n",
    "torch.log(mat,)"
   ]
  },
  {
   "cell_type": "code",
   "execution_count": 63,
   "metadata": {
    "colab": {
     "base_uri": "https://localhost:8080/"
    },
    "id": "8FnjA4xC_IfX",
    "outputId": "b597c416-81fa-40f0-e4eb-f6936b0450fd"
   },
   "outputs": [
    {
     "data": {
      "text/plain": [
       "tensor([[1.0000, 1.4142, 1.7321],\n",
       "        [2.0000, 2.2361, 2.4495],\n",
       "        [2.6458, 2.8284, 3.0000]])"
      ]
     },
     "execution_count": 63,
     "metadata": {},
     "output_type": "execute_result"
    }
   ],
   "source": [
    "#square root\n",
    "torch.sqrt(mat)"
   ]
  },
  {
   "cell_type": "code",
   "execution_count": 65,
   "metadata": {
    "colab": {
     "base_uri": "https://localhost:8080/"
    },
    "id": "fDhoba6z_QcJ",
    "outputId": "7b502441-f769-4a76-e086-a4e762fd033d"
   },
   "outputs": [
    {
     "data": {
      "text/plain": [
       "tensor([[0.7311, 0.8808, 0.9526],\n",
       "        [0.9820, 0.9933, 0.9975],\n",
       "        [0.9991, 0.9997, 0.9999]])"
      ]
     },
     "execution_count": 65,
     "metadata": {},
     "output_type": "execute_result"
    }
   ],
   "source": [
    "#sigmoid\n",
    "torch.sigmoid(mat)"
   ]
  },
  {
   "cell_type": "code",
   "execution_count": 68,
   "metadata": {
    "colab": {
     "base_uri": "https://localhost:8080/"
    },
    "id": "y_5qHrTK_Suy",
    "outputId": "81d91c4f-2ff5-43be-e51e-e36a2694812c"
   },
   "outputs": [
    {
     "data": {
      "text/plain": [
       "tensor([[0.0024, 0.0024, 0.0024],\n",
       "        [0.0473, 0.0473, 0.0473],\n",
       "        [0.9503, 0.9503, 0.9503]])"
      ]
     },
     "execution_count": 68,
     "metadata": {},
     "output_type": "execute_result"
    }
   ],
   "source": [
    "#softmax\n",
    "torch.softmax(mat2,dim=0) #it requires float values to work"
   ]
  },
  {
   "cell_type": "code",
   "execution_count": 69,
   "metadata": {
    "colab": {
     "base_uri": "https://localhost:8080/"
    },
    "id": "aaEgkadb_U53",
    "outputId": "d294bdbf-41f3-4917-e607-cc3b085a0bd0"
   },
   "outputs": [
    {
     "data": {
      "text/plain": [
       "tensor([[1., 2., 3.],\n",
       "        [4., 5., 6.],\n",
       "        [7., 8., 9.]])"
      ]
     },
     "execution_count": 69,
     "metadata": {},
     "output_type": "execute_result"
    }
   ],
   "source": [
    "#relu\n",
    "torch.relu(mat2)"
   ]
  },
  {
   "cell_type": "markdown",
   "metadata": {
    "id": "qovMNeu3AghI"
   },
   "source": [
    "## Inplace operations on the tensor directly\n",
    "This will help us to save the amount of memory by directly adding those new computed values in the place of the tensor. To do this, simply add underscore_ after the fucntion name.  \n",
    "For Ex: tensor A = [1,2,3,4] and B = [2,3,4,5], inorder to store to value of A + B, we were doing like this torch.add(A,B), insted we will do something like this A.add_(B), this will compute every new value and place it on existing values of A.  \n",
    "Remember A = A+B will first store the newly calculated values somewhere else not on `A` itself."
   ]
  },
  {
   "cell_type": "code",
   "execution_count": 71,
   "metadata": {
    "colab": {
     "base_uri": "https://localhost:8080/"
    },
    "id": "5VjHfgW7AgO0",
    "outputId": "4a3982d1-5267-4b9e-9175-aef2e7b779c4"
   },
   "outputs": [
    {
     "name": "stdout",
     "output_type": "stream",
     "text": [
      "tensor([9, 8]) tensor([0, 7])\n",
      "tensor([ 9, 15]) tensor([0, 7])\n"
     ]
    }
   ],
   "source": [
    "print(A,B)\n",
    "\n",
    "A.add_(B)\n",
    "print(A,B)"
   ]
  },
  {
   "cell_type": "markdown",
   "metadata": {
    "id": "PMpr8nh4BkQa"
   },
   "source": [
    "## Copying a tensor"
   ]
  },
  {
   "cell_type": "code",
   "execution_count": 73,
   "metadata": {
    "colab": {
     "base_uri": "https://localhost:8080/"
    },
    "id": "KB_jOuEMBh46",
    "outputId": "71bdc8f5-3a6a-4413-9b3e-cd798113277e"
   },
   "outputs": [
    {
     "name": "stdout",
     "output_type": "stream",
     "text": [
      "135572317401504 135572317399584\n",
      "135572317401504 135572317401504\n"
     ]
    }
   ],
   "source": [
    "C = A.clone()\n",
    "D = A\n",
    "\n",
    "print(id(A), id(C)) # A and C are stored at different locations\n",
    "print(id(A), id(D)) # A and D are stored at same locations means they are same, if I change value in one, other will also change"
   ]
  },
  {
   "cell_type": "markdown",
   "metadata": {
    "id": "fJptBluQFMsj"
   },
   "source": [
    "## Tensor operations on GPU"
   ]
  },
  {
   "cell_type": "code",
   "execution_count": 4,
   "metadata": {
    "colab": {
     "base_uri": "https://localhost:8080/"
    },
    "id": "eQ_dOeQuEl9P",
    "outputId": "a705a8f9-e3f0-4b85-9f43-5e2363e1eed9"
   },
   "outputs": [
    {
     "data": {
      "text/plain": [
       "True"
      ]
     },
     "execution_count": 4,
     "metadata": {},
     "output_type": "execute_result"
    }
   ],
   "source": [
    "torch.cuda.is_available()"
   ]
  },
  {
   "cell_type": "code",
   "execution_count": 5,
   "metadata": {
    "id": "h38Yx6FRFSyA"
   },
   "outputs": [],
   "source": [
    "device = torch.device('cuda')"
   ]
  },
  {
   "cell_type": "code",
   "execution_count": 77,
   "metadata": {
    "colab": {
     "base_uri": "https://localhost:8080/"
    },
    "id": "zFSYEYBRFWla",
    "outputId": "9a2075d7-cd60-4bee-db7b-b26fc891e432"
   },
   "outputs": [
    {
     "data": {
      "text/plain": [
       "tensor([[1., 1., 1.],\n",
       "        [1., 1., 1.]], device='cuda:0')"
      ]
     },
     "execution_count": 77,
     "metadata": {},
     "output_type": "execute_result"
    }
   ],
   "source": [
    "#creating a new tensor on GPU\n",
    "torch.ones(2,3, device=device)"
   ]
  },
  {
   "cell_type": "code",
   "execution_count": null,
   "metadata": {
    "colab": {
     "base_uri": "https://localhost:8080/"
    },
    "id": "nRrSDqCPFbFk",
    "outputId": "9d8e3315-91f9-41ac-88f6-ea04f5b378ee"
   },
   "outputs": [
    {
     "name": "stdout",
     "output_type": "stream",
     "text": [
      "tensor([[1., 1., 1.],\n",
      "        [1., 1., 1.]])\n",
      "tensor([[1., 1., 1.],\n",
      "        [1., 1., 1.]], device='cuda:0')\n"
     ]
    }
   ],
   "source": [
    "#moving a tensor from cpu to gpu\n",
    "a = torch.ones(2,3)\n",
    "print(a)\n",
    "b = a.to(device)\n",
    "print(b)   "
   ]
  },
  {
   "cell_type": "code",
   "execution_count": 2,
   "metadata": {
    "colab": {
     "base_uri": "https://localhost:8080/"
    },
    "id": "j12koCFUFikZ",
    "outputId": "c8012bed-e4b1-4a86-f4fc-5396d5c5554f"
   },
   "outputs": [
    {
     "name": "stdout",
     "output_type": "stream",
     "text": [
      "Time taken on CPU: 11.163714 seconds\n",
      "Time taken on GPU: 0.095233 seconds\n",
      "matrix multiplication on gpu is 117.0 times faster\n"
     ]
    }
   ],
   "source": [
    "import time\n",
    "device = torch.device('cuda')\n",
    "#Define the size of the matrices\n",
    "size = 10000\n",
    "\n",
    "mat1 = torch.randn(size, size) #negative numbers\n",
    "mat2 = torch.rand(size, size) #positive numbers\n",
    "\n",
    "#measure time on CPU\n",
    "start_time = time.time()\n",
    "result_cpu = torch.matmul(mat1, mat2) # matrix multiplication on cpu\n",
    "cpu_end_time = time.time() - start_time\n",
    "print(f\"Time taken on CPU: {cpu_end_time:4f} seconds\")\n",
    "\n",
    "# move matrices to GPU\n",
    "mat1 = mat1.to(device)\n",
    "mat2 = mat2.to(device)\n",
    "\n",
    "#measure time on GPU\n",
    "start_time_gpu = time.time()\n",
    "result_gpu = torch.matmul(mat1, mat2) #matrix multiplication on gpu\n",
    "gpu_end_time = time.time() - start_time_gpu\n",
    "print(f\"Time taken on GPU: {gpu_end_time:4f} seconds\")\n",
    "\n",
    "print(f'matrix multiplication on gpu is {cpu_end_time//gpu_end_time} times faster')\n",
    "\n",
    "## Reshaping tensors"
   ]
  },
  {
   "cell_type": "code",
   "execution_count": 7,
   "metadata": {
    "colab": {
     "base_uri": "https://localhost:8080/"
    },
    "id": "qHDw-QNiImm3",
    "outputId": "af1643b6-c5f2-4e30-9035-c21f54b124e2"
   },
   "outputs": [
    {
     "data": {
      "text/plain": [
       "tensor([[1., 1., 1., 1.],\n",
       "        [1., 1., 1., 1.],\n",
       "        [1., 1., 1., 1.],\n",
       "        [1., 1., 1., 1.]])"
      ]
     },
     "execution_count": 7,
     "metadata": {},
     "output_type": "execute_result"
    }
   ],
   "source": [
    "A = torch.ones(4,4)\n",
    "A"
   ]
  },
  {
   "cell_type": "code",
   "execution_count": 8,
   "metadata": {
    "colab": {
     "base_uri": "https://localhost:8080/"
    },
    "id": "ou7AETxPOjYt",
    "outputId": "c40c011c-bc91-45b6-e6e4-f74570774c74"
   },
   "outputs": [
    {
     "data": {
      "text/plain": [
       "tensor([[[[1., 1.],\n",
       "          [1., 1.]],\n",
       "\n",
       "         [[1., 1.],\n",
       "          [1., 1.]]],\n",
       "\n",
       "\n",
       "        [[[1., 1.],\n",
       "          [1., 1.]],\n",
       "\n",
       "         [[1., 1.],\n",
       "          [1., 1.]]]])"
      ]
     },
     "execution_count": 8,
     "metadata": {},
     "output_type": "execute_result"
    }
   ],
   "source": [
    "#reshape\n",
    "A.reshape(2,2,2,2)"
   ]
  },
  {
   "cell_type": "code",
   "execution_count": 9,
   "metadata": {
    "colab": {
     "base_uri": "https://localhost:8080/"
    },
    "id": "UgiUi4VEOrlm",
    "outputId": "33326c08-d18b-4792-f206-6a8bc972f464"
   },
   "outputs": [
    {
     "data": {
      "text/plain": [
       "tensor([1., 1., 1., 1., 1., 1., 1., 1., 1., 1., 1., 1., 1., 1., 1., 1.])"
      ]
     },
     "execution_count": 9,
     "metadata": {},
     "output_type": "execute_result"
    }
   ],
   "source": [
    "#flatten\n",
    "A.flatten() # converts into vector"
   ]
  },
  {
   "cell_type": "code",
   "execution_count": 11,
   "metadata": {
    "colab": {
     "base_uri": "https://localhost:8080/"
    },
    "id": "w2qLpVfhOvQd",
    "outputId": "75555bed-cd34-4754-9ea5-f4979ba655e5"
   },
   "outputs": [
    {
     "name": "stdout",
     "output_type": "stream",
     "text": [
      "torch.Size([2, 3, 4])\n",
      "torch.Size([4, 2, 3])\n"
     ]
    }
   ],
   "source": [
    "#permute\n",
    "B = torch.rand(2,3,4)\n",
    "print(B.shape)\n",
    "print(B.permute(2,0,1).shape)"
   ]
  },
  {
   "cell_type": "code",
   "execution_count": 16,
   "metadata": {
    "colab": {
     "base_uri": "https://localhost:8080/"
    },
    "id": "ZoTf6YxCPGS8",
    "outputId": "9888c08a-e19e-4448-95f2-f179cb96fbb4"
   },
   "outputs": [
    {
     "name": "stdout",
     "output_type": "stream",
     "text": [
      "torch.Size([226, 226, 3])\n",
      "torch.Size([226, 226, 1, 3])\n",
      "torch.Size([226, 1, 226, 3])\n"
     ]
    }
   ],
   "source": [
    "#unsqueeze\n",
    "\n",
    "c= torch.rand(226,226,3)\n",
    "\n",
    "print(c.shape)\n",
    "print(c.unsqueeze(2).shape)  #adds a new dimension at defined locaiton\n",
    "\n",
    "print(c.unsqueeze(1).shape) #adds a new dimension at defined locaiton"
   ]
  },
  {
   "cell_type": "code",
   "execution_count": 18,
   "metadata": {
    "colab": {
     "base_uri": "https://localhost:8080/"
    },
    "id": "JOFoUKtCPluE",
    "outputId": "5f99e1ae-c951-4b40-c8ad-206bee257ebc"
   },
   "outputs": [
    {
     "name": "stdout",
     "output_type": "stream",
     "text": [
      "torch.Size([266, 266, 3])\n"
     ]
    }
   ],
   "source": [
    "#squeeze\n",
    "d = torch.rand(266,266,3)\n",
    "print(d.squeeze(1).shape)  #removes dimension at defined location"
   ]
  },
  {
   "cell_type": "markdown",
   "metadata": {
    "id": "37ERuyjQP6pS"
   },
   "source": [
    "## Numpy and PyTorch"
   ]
  },
  {
   "cell_type": "code",
   "execution_count": 19,
   "metadata": {
    "id": "266WNxiPP9Mv"
   },
   "outputs": [],
   "source": [
    "import numpy as np"
   ]
  },
  {
   "cell_type": "code",
   "execution_count": 20,
   "metadata": {
    "colab": {
     "base_uri": "https://localhost:8080/"
    },
    "id": "QcHL3zYwP_IZ",
    "outputId": "b3f8b477-be79-45ed-f135-8e748f89e05c"
   },
   "outputs": [
    {
     "name": "stdout",
     "output_type": "stream",
     "text": [
      "[1 2 3 4 5] tensor([1, 2, 3, 4, 5])\n"
     ]
    }
   ],
   "source": [
    "#from numpy to tensor\n",
    "arr1 = np.array([1,2,3,4,5])\n",
    "arr2 = torch.from_numpy(arr1)\n",
    "print(arr1, arr2)"
   ]
  },
  {
   "cell_type": "code",
   "execution_count": 21,
   "metadata": {
    "colab": {
     "base_uri": "https://localhost:8080/"
    },
    "id": "OqgSYq-NQL5m",
    "outputId": "028ecadb-121b-471c-f883-dde5ff2afcdd"
   },
   "outputs": [
    {
     "data": {
      "text/plain": [
       "array([1, 2, 3, 4, 5])"
      ]
     },
     "execution_count": 21,
     "metadata": {},
     "output_type": "execute_result"
    }
   ],
   "source": [
    "#from tensor to numpy\n",
    "arr3 = arr2.numpy()\n",
    "arr3"
   ]
  }
 ],
 "metadata": {
  "accelerator": "GPU",
  "colab": {
   "cell_execution_strategy": "setup",
   "gpuType": "T4",
   "provenance": []
  },
  "kernelspec": {
   "display_name": "Python 3",
   "name": "python3"
  },
  "language_info": {
   "codemirror_mode": {
    "name": "ipython",
    "version": 3
   },
   "file_extension": ".py",
   "mimetype": "text/x-python",
   "name": "python",
   "nbconvert_exporter": "python",
   "pygments_lexer": "ipython3",
   "version": "3.11.6"
  }
 },
 "nbformat": 4,
 "nbformat_minor": 0
}
